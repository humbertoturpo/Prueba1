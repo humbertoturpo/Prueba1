{
 "cells": [
  {
   "cell_type": "markdown",
   "id": "02a5d85f",
   "metadata": {},
   "source": [
    "<h1> Data Science Tools and Ecosystem </h1> \n"
   ]
  },
  {
   "cell_type": "markdown",
   "id": "f8a8b484",
   "metadata": {},
   "source": [
    "<h2> Introduction </h2> "
   ]
  },
  {
   "cell_type": "markdown",
   "id": "4374cdeb",
   "metadata": {},
   "source": [
    "In this notebook, Data Science Tools and Ecosystem are summarized.\n",
    "\n"
   ]
  },
  {
   "cell_type": "markdown",
   "id": "f74c9ce9",
   "metadata": {},
   "source": [
    "<h2> Data science languages </h2> "
   ]
  },
  {
   "cell_type": "markdown",
   "id": "e65837a6",
   "metadata": {},
   "source": [
    "Some of the popular languages that Data Scientists use are:\n",
    "\n",
    "Python.\n",
    "R.\n",
    "SQL.\n",
    "Java.\n",
    "Julia.\n",
    "Scala.\n",
    "C/C++.\n",
    "JavaScript."
   ]
  },
  {
   "cell_type": "markdown",
   "id": "a82d6661",
   "metadata": {},
   "source": [
    "<h2> Create a markdown cell to list data science libraries </h2>"
   ]
  },
  {
   "cell_type": "markdown",
   "id": "efb02653",
   "metadata": {},
   "source": [
    "Some of the commonly used libraries used by Data Scientists include:\n",
    "Scrapy.\n",
    "BeautifulSoup.\n",
    "LightGBM.\n",
    "ELI5.\n",
    "Theano.\n",
    "NuPIC.\n",
    "Ramp.\n",
    "Pipenv.\n",
    "Bob.\n",
    "PyBrain.\n",
    "Caffe2.\n",
    "Chainer.\n",
    "TensorFlow.\n",
    "NumPy.\n",
    "SciPy.\n",
    "Pandas.\n",
    "Matplotlib.\n",
    "Keras.\n",
    "SciKit-Learn.\n",
    "PyTorch.\n"
   ]
  },
  {
   "cell_type": "markdown",
   "id": "4262a94d",
   "metadata": {},
   "source": [
    "<h2>Create a markdown cell with a table of Data Science tools</h2>"
   ]
  },
  {
   "cell_type": "markdown",
   "id": "d4f2475d",
   "metadata": {},
   "source": [
    "|Data Science Tools|\n",
    "|------------------|\n",
    "|Big ML|\n",
    "|Apache Spark|"
   ]
  },
  {
   "cell_type": "markdown",
   "id": "9ea06fdd",
   "metadata": {},
   "source": [
    "<h2>Create a markdown cell introducing arithmetic expression examples</h2>"
   ]
  },
  {
   "cell_type": "code",
   "execution_count": 1,
   "id": "3a16bf2f",
   "metadata": {},
   "outputs": [
    {
     "name": "stdout",
     "output_type": "stream",
     "text": [
      "The result of the addition is: 8\n"
     ]
    }
   ],
   "source": [
    "# Define two numbers\n",
    "a = 5\n",
    "b = 3\n",
    "\n",
    "# Perform an arithmetic operation (addition)\n",
    "result = a + b\n",
    "\n",
    "# Print the result\n",
    "print(\"The result of the addition is:\", result)"
   ]
  },
  {
   "cell_type": "code",
   "execution_count": 2,
   "id": "e83bb199",
   "metadata": {},
   "outputs": [
    {
     "name": "stdout",
     "output_type": "stream",
     "text": [
      "The result of the subtraction is: 8\n"
     ]
    }
   ],
   "source": [
    "# Define two numbers\n",
    "a = 10\n",
    "b = 2\n",
    "\n",
    "# Perform an arithmetic operation (division)\n",
    "result = a - b\n",
    "\n",
    "# Print the result\n",
    "print(\"The result of the subtraction is:\", result)"
   ]
  },
  {
   "cell_type": "markdown",
   "id": "21a6abf8",
   "metadata": {},
   "source": [
    "<h2>Create a code cell to multiply and add numbers</h2>"
   ]
  },
  {
   "cell_type": "code",
   "execution_count": 3,
   "id": "65947c3e",
   "metadata": {},
   "outputs": [
    {
     "name": "stdout",
     "output_type": "stream",
     "text": [
      "The result of the multiplication is: 28\n",
      "The result of the addition is: 11\n"
     ]
    }
   ],
   "source": [
    "# Define two numbers\n",
    "x = 7\n",
    "y = 4\n",
    "\n",
    "# Perform multiplication\n",
    "multiplication_result = x * y\n",
    "\n",
    "# Perform addition\n",
    "addition_result = x + y\n",
    "\n",
    "# Print the results\n",
    "print(\"The result of the multiplication is:\", multiplication_result)\n",
    "print(\"The result of the addition is:\", addition_result)"
   ]
  },
  {
   "cell_type": "markdown",
   "id": "699055f2",
   "metadata": {},
   "source": [
    "<h2>Create a code cell to convert minutes to hours.</h2>"
   ]
  },
  {
   "cell_type": "code",
   "execution_count": null,
   "id": "5046d2ed",
   "metadata": {},
   "outputs": [],
   "source": [
    "# Function to convert minutes to hours\n",
    "def convert_minutes_to_hours(minutes):\n",
    "    hours = minutes / 60\n",
    "    return hours\n",
    "\n",
    "try:\n",
    "    # Prompt the user to enter the number of minutes\n",
    "    minutes = float(input(\"Enter the number of minutes: \"))\n",
    "\n",
    "    # Call the function to convert minutes to hours\n",
    "    hours = convert_minutes_to_hours(minutes)\n",
    "\n",
    "    # Display the result\n",
    "    print(f\"{minutes} minutes is equivalent to {hours:.2f} hours.\")\n",
    "except ValueError:\n",
    "    print(\"Please enter a valid number for minutes.\")"
   ]
  },
  {
   "cell_type": "markdown",
   "id": "10b65ec5",
   "metadata": {},
   "source": [
    "<h2>Insert a markdown cell to list Objectives.</h2>"
   ]
  },
  {
   "cell_type": "markdown",
   "id": "806cf859",
   "metadata": {},
   "source": [
    "The objectives of the listed exercises for the final project are to demonstrate proficiency in creating and organizing a data science notebook using Markdown and code cells. Each exercise targets a specific skill that is essential for documenting and presenting data science work clearly and effectively. Below are the objectives for each exercise:\n",
    "\n"
   ]
  },
  {
   "cell_type": "markdown",
   "id": "ac324e29",
   "metadata": {},
   "source": [
    "<h3> Author  </h3>\n",
    "Humberto."
   ]
  },
  {
   "cell_type": "code",
   "execution_count": null,
   "id": "cdc25cf0",
   "metadata": {},
   "outputs": [],
   "source": []
  },
  {
   "cell_type": "code",
   "execution_count": null,
   "id": "50a9e5a5",
   "metadata": {},
   "outputs": [],
   "source": []
  }
 ],
 "metadata": {
  "kernelspec": {
   "display_name": "Python 3 (ipykernel)",
   "language": "python",
   "name": "python3"
  },
  "language_info": {
   "codemirror_mode": {
    "name": "ipython",
    "version": 3
   },
   "file_extension": ".py",
   "mimetype": "text/x-python",
   "name": "python",
   "nbconvert_exporter": "python",
   "pygments_lexer": "ipython3",
   "version": "3.10.9"
  }
 },
 "nbformat": 4,
 "nbformat_minor": 5
}
